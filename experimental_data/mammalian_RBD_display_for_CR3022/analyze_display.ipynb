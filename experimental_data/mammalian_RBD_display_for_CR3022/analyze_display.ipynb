{
 "cells": [
  {
   "cell_type": "markdown",
   "metadata": {},
   "source": [
    "# Antibody binding to RBD point mutants in mammalian display system\n",
    "Plot Allie Greaney and Andrea Loes's flow cytometry data on antibody binding to mammalian-cell displayed RBD mutants.\n",
    "These are displayed using the RBD-B7.1TM plasmid system.\n",
    "These data are useful for antibodies like CR3022 that aren't neutralizing and so can't be validated in neutralization assays.\n",
    "\n",
    "Import Python modules:"
   ]
  },
  {
   "cell_type": "code",
   "execution_count": 1,
   "metadata": {},
   "outputs": [
    {
     "name": "stderr",
     "output_type": "stream",
     "text": [
      "/fh/fast/bloom_j/computational_notebooks/jbloom/2020/SARS-CoV-2-RBD_MAP/env/lib/python3.7/site-packages/dmslogo/logo.py:40: MatplotlibDeprecationWarning: \n",
      "The createFontList function was deprecated in Matplotlib 3.2 and will be removed two minor releases later. Use FontManager.addfont instead.\n",
      "  matplotlib.font_manager.findSystemFonts(_FONT_PATH)))\n"
     ]
    }
   ],
   "source": [
    "import os\n",
    "\n",
    "import neutcurve\n",
    "from neutcurve.colorschemes import CBPALETTE\n",
    "\n",
    "import numpy\n",
    "\n",
    "import pandas as pd\n",
    "from pandas.api.types import CategoricalDtype\n",
    "\n",
    "from plotnine import *"
   ]
  },
  {
   "cell_type": "markdown",
   "metadata": {},
   "source": [
    "Make output directory for results from running notebook:"
   ]
  },
  {
   "cell_type": "code",
   "execution_count": 2,
   "metadata": {},
   "outputs": [],
   "source": [
    "os.makedirs('results', exist_ok=True)"
   ]
  },
  {
   "cell_type": "markdown",
   "metadata": {},
   "source": [
    "Read in the data for the experiments from the CSV files that Allie generated:\n",
    "\n",
    "* **2020-07-17:** CR3022 binding to WT RBD and 2 mutants\n",
    "\n",
    "* **2020-07-29:** CR3022 and COV2-2082 binding to WT RBD and some number of mutants. \n",
    "\n",
    "Allie quantified the antibody binding signal by computing a \"mean bin\" score of four flow cytometry bins that could range from 1 to 4.\n",
    "Note that in order to enable better curve fitting with [neutcurve](https://jbloomlab.github.io/neutcurve/), we change the mean bin to start at 0 and go to 3.\n",
    "(This works better because [neutcurve](https://jbloomlab.github.io/neutcurve/) is designed to fit data with lower limits of zero and works most efficiently in that case.)"
   ]
  },
  {
   "cell_type": "code",
   "execution_count": 3,
   "metadata": {},
   "outputs": [
    {
     "data": {
      "text/html": [
       "<div>\n",
       "<style scoped>\n",
       "    .dataframe tbody tr th:only-of-type {\n",
       "        vertical-align: middle;\n",
       "    }\n",
       "\n",
       "    .dataframe tbody tr th {\n",
       "        vertical-align: top;\n",
       "    }\n",
       "\n",
       "    .dataframe thead th {\n",
       "        text-align: right;\n",
       "    }\n",
       "</style>\n",
       "<table border=\"1\" class=\"dataframe\">\n",
       "  <thead>\n",
       "    <tr style=\"text-align: right;\">\n",
       "      <th></th>\n",
       "      <th>genotype</th>\n",
       "      <th>antibody</th>\n",
       "      <th>replicate</th>\n",
       "      <th>concentration</th>\n",
       "      <th>units</th>\n",
       "      <th>APC_geomean</th>\n",
       "      <th>PE_geomean</th>\n",
       "      <th>bin1</th>\n",
       "      <th>bin2</th>\n",
       "      <th>bin3</th>\n",
       "      <th>bin4</th>\n",
       "      <th>mean_bin</th>\n",
       "      <th>date</th>\n",
       "      <th>antibody_date</th>\n",
       "      <th>logMFI_antibody</th>\n",
       "      <th>logMFI_expression</th>\n",
       "    </tr>\n",
       "  </thead>\n",
       "  <tbody>\n",
       "    <tr>\n",
       "      <th>0</th>\n",
       "      <td>wildtype</td>\n",
       "      <td>COV2-2082</td>\n",
       "      <td>1</td>\n",
       "      <td>0.00000</td>\n",
       "      <td>ng_per_mL</td>\n",
       "      <td>19.5</td>\n",
       "      <td>3543</td>\n",
       "      <td>89.60</td>\n",
       "      <td>10.4</td>\n",
       "      <td>0.00</td>\n",
       "      <td>0.000</td>\n",
       "      <td>0.104000</td>\n",
       "      <td>2020-07-29</td>\n",
       "      <td>COV2-2082 (2020-07-29)</td>\n",
       "      <td>2.970414</td>\n",
       "      <td>8.172729</td>\n",
       "    </tr>\n",
       "    <tr>\n",
       "      <th>1</th>\n",
       "      <td>wildtype</td>\n",
       "      <td>COV2-2082</td>\n",
       "      <td>1</td>\n",
       "      <td>0.00512</td>\n",
       "      <td>ng_per_mL</td>\n",
       "      <td>55.6</td>\n",
       "      <td>3525</td>\n",
       "      <td>60.60</td>\n",
       "      <td>39.1</td>\n",
       "      <td>0.28</td>\n",
       "      <td>0.000</td>\n",
       "      <td>0.396679</td>\n",
       "      <td>2020-07-29</td>\n",
       "      <td>COV2-2082 (2020-07-29)</td>\n",
       "      <td>4.018183</td>\n",
       "      <td>8.167636</td>\n",
       "    </tr>\n",
       "    <tr>\n",
       "      <th>2</th>\n",
       "      <td>wildtype</td>\n",
       "      <td>COV2-2082</td>\n",
       "      <td>1</td>\n",
       "      <td>0.02560</td>\n",
       "      <td>ng_per_mL</td>\n",
       "      <td>92.1</td>\n",
       "      <td>3404</td>\n",
       "      <td>46.90</td>\n",
       "      <td>50.4</td>\n",
       "      <td>2.75</td>\n",
       "      <td>0.000</td>\n",
       "      <td>0.558721</td>\n",
       "      <td>2020-07-29</td>\n",
       "      <td>COV2-2082 (2020-07-29)</td>\n",
       "      <td>4.522875</td>\n",
       "      <td>8.132706</td>\n",
       "    </tr>\n",
       "    <tr>\n",
       "      <th>3</th>\n",
       "      <td>wildtype</td>\n",
       "      <td>COV2-2082</td>\n",
       "      <td>1</td>\n",
       "      <td>0.12800</td>\n",
       "      <td>ng_per_mL</td>\n",
       "      <td>293.0</td>\n",
       "      <td>3500</td>\n",
       "      <td>21.00</td>\n",
       "      <td>63.5</td>\n",
       "      <td>15.50</td>\n",
       "      <td>0.012</td>\n",
       "      <td>0.945247</td>\n",
       "      <td>2020-07-29</td>\n",
       "      <td>COV2-2082 (2020-07-29)</td>\n",
       "      <td>5.680173</td>\n",
       "      <td>8.160518</td>\n",
       "    </tr>\n",
       "    <tr>\n",
       "      <th>4</th>\n",
       "      <td>wildtype</td>\n",
       "      <td>COV2-2082</td>\n",
       "      <td>1</td>\n",
       "      <td>0.64000</td>\n",
       "      <td>ng_per_mL</td>\n",
       "      <td>746.0</td>\n",
       "      <td>3447</td>\n",
       "      <td>5.59</td>\n",
       "      <td>63.1</td>\n",
       "      <td>31.30</td>\n",
       "      <td>0.023</td>\n",
       "      <td>1.257527</td>\n",
       "      <td>2020-07-29</td>\n",
       "      <td>COV2-2082 (2020-07-29)</td>\n",
       "      <td>6.614726</td>\n",
       "      <td>8.145260</td>\n",
       "    </tr>\n",
       "  </tbody>\n",
       "</table>\n",
       "</div>"
      ],
      "text/plain": [
       "   genotype   antibody  replicate  concentration      units  APC_geomean  \\\n",
       "0  wildtype  COV2-2082          1        0.00000  ng_per_mL         19.5   \n",
       "1  wildtype  COV2-2082          1        0.00512  ng_per_mL         55.6   \n",
       "2  wildtype  COV2-2082          1        0.02560  ng_per_mL         92.1   \n",
       "3  wildtype  COV2-2082          1        0.12800  ng_per_mL        293.0   \n",
       "4  wildtype  COV2-2082          1        0.64000  ng_per_mL        746.0   \n",
       "\n",
       "   PE_geomean   bin1  bin2   bin3   bin4  mean_bin       date  \\\n",
       "0        3543  89.60  10.4   0.00  0.000  0.104000 2020-07-29   \n",
       "1        3525  60.60  39.1   0.28  0.000  0.396679 2020-07-29   \n",
       "2        3404  46.90  50.4   2.75  0.000  0.558721 2020-07-29   \n",
       "3        3500  21.00  63.5  15.50  0.012  0.945247 2020-07-29   \n",
       "4        3447   5.59  63.1  31.30  0.023  1.257527 2020-07-29   \n",
       "\n",
       "            antibody_date  logMFI_antibody  logMFI_expression  \n",
       "0  COV2-2082 (2020-07-29)         2.970414           8.172729  \n",
       "1  COV2-2082 (2020-07-29)         4.018183           8.167636  \n",
       "2  COV2-2082 (2020-07-29)         4.522875           8.132706  \n",
       "3  COV2-2082 (2020-07-29)         5.680173           8.160518  \n",
       "4  COV2-2082 (2020-07-29)         6.614726           8.145260  "
      ]
     },
     "execution_count": 3,
     "metadata": {},
     "output_type": "execute_result"
    }
   ],
   "source": [
    "dates = ['200729', '200717']\n",
    "\n",
    "all_data = (\n",
    "    pd.concat([pd.read_csv(f\"{date}_Table.csv\").assign(date=date)\n",
    "               for date in dates])\n",
    "    .drop(columns=['WELL ID', 'Cells', 'Single Cells', 'Single Cells2',\n",
    "                   'SingleCells3', 'ACE2pos', 'Unnamed: 0'])\n",
    "    .assign(date=lambda x: pd.to_datetime(x['date'], format='%y%m%d'),\n",
    "            antibody_date=lambda x: x['antibody'] + ' (' + x['date'].astype(str) + ')',\n",
    "            mean_bin=lambda x: x['mean_bin'] - 1,  # make mean bin start at 0\n",
    "            logMFI_antibody=lambda x: numpy.log(x['APC_geomean']),\n",
    "            logMFI_expression=lambda x: numpy.log(x['PE_geomean']),\n",
    "            )\n",
    "    .sort_values(['antibody', 'date'])\n",
    "    .reset_index(drop=True)\n",
    "    )  \n",
    "\n",
    "all_data.head()"
   ]
  },
  {
   "cell_type": "markdown",
   "metadata": {},
   "source": [
    "The curve-fitting works best when the Y-axis lower limit is zero.\n",
    "I will subtract the minimum CR3022 logMFI (because from running the notebook previous times, I know the curve will not fit to 2082 anyway, and we will probably only want the CR3022 data for the paper) from everything. \n",
    "\n",
    "Indeed, this makes the curve fitting work a lot better for CR3022 x K378N. \n",
    "\n",
    "And get just the data relevant for the RBD-antibody binding curves:"
   ]
  },
  {
   "cell_type": "code",
   "execution_count": 4,
   "metadata": {},
   "outputs": [
    {
     "name": "stdout",
     "output_type": "stream",
     "text": [
      "3.126760535960395\n"
     ]
    }
   ],
   "source": [
    "min_MFI = (all_data\n",
    "            .query('antibody == \"CR3022\"')\n",
    "            .query('concentration > 0')\n",
    "            ['logMFI_antibody']\n",
    "            ).min()\n",
    "\n",
    "print(min_MFI)"
   ]
  },
  {
   "cell_type": "code",
   "execution_count": 5,
   "metadata": {},
   "outputs": [],
   "source": [
    "rbd_data = (all_data\n",
    "            .query('genotype != \"untransfected\"')\n",
    "            .query('concentration > 0')\n",
    "            .assign(logMFI_antibody_normalized=lambda x: x['logMFI_antibody'] - min_MFI)\n",
    "            )"
   ]
  },
  {
   "cell_type": "markdown",
   "metadata": {},
   "source": [
    "Use [neutcurve](https://jbloomlab.github.io/neutcurve/) to fit and plot curves to all measurements.\n",
    "If there are replicates, it automatically fits the mean.\n",
    "\n",
    "Note that `neutcurve` will not fit a curve for *COV2-2082* for wildtype.\n",
    "In her original analysis, Allie just excluded the second and third points for this curve.\n",
    "This allows `neutcurve` to fit a curve to the COV2-2082 wildtype. \n",
    "Make a plot excluding those:"
   ]
  },
  {
   "cell_type": "code",
   "execution_count": 6,
   "metadata": {},
   "outputs": [
    {
     "name": "stderr",
     "output_type": "stream",
     "text": [
      "/fh/fast/bloom_j/computational_notebooks/jbloom/2020/SARS-CoV-2-RBD_MAP/env/lib/python3.7/site-packages/neutcurve/hillcurve.py:691: RuntimeWarning: invalid value encountered in power\n",
      "  return t + (b - t) / (1 + (c / m)**s)\n"
     ]
    },
    {
     "data": {
      "image/png": "[encoded data removed]",
      "text/plain": [
       "<Figure size 720x280.8 with 4 Axes>"
      ]
     },
     "metadata": {
      "needs_background": "light"
     },
     "output_type": "display_data"
    }
   ],
   "source": [
    "fits_exclude = neutcurve.CurveFits(\n",
    "                           rbd_data.query('not (antibody == \"COV2-2082\" and '\n",
    "                                          '     genotype == \"wildtype\" and '\n",
    "                                          '     concentration in [0.128, 0.64])'),\n",
    "                           fracinf_col='mean_bin',\n",
    "                           serum_col='antibody_date',\n",
    "                           virus_col='genotype',\n",
    "                           fixbottom=False,\n",
    "                           fixtop=False,\n",
    "                           infectivity_or_neutralized='neutralized',\n",
    "                           )\n",
    "\n",
    "_ = fits_exclude.plotSera(\n",
    "              xlabel='antibody concentration (ng/ml)',\n",
    "              ylabel='binding (arbitrary units)',\n",
    "              heightscale=1.2,\n",
    "              )"
   ]
  },
  {
   "cell_type": "markdown",
   "metadata": {},
   "source": [
    "The above plots excluding those points looks a little bit better.\n",
    "However, I'm not sure if we have a good rationale for arbitrarily just excluding these two points?\n",
    "And in any case, a curve that excludes them is missing data in a key region.\n",
    "\n",
    "In any case, it doesn't seem like we really care about *COV2-2082* as we can measure **neutralization** for it.\n",
    "CR3022 is the only antibody that is non-neutralizing and for which we need to use RBD display rather than neutralization.\n",
    "So fit just the CR3022 data.\n",
    "The below plot might make a nice supplementary figure, so save it:"
   ]
  },
  {
   "cell_type": "code",
   "execution_count": 7,
   "metadata": {},
   "outputs": [
    {
     "name": "stderr",
     "output_type": "stream",
     "text": [
      "/fh/fast/bloom_j/computational_notebooks/jbloom/2020/SARS-CoV-2-RBD_MAP/env/lib/python3.7/site-packages/neutcurve/hillcurve.py:691: RuntimeWarning: invalid value encountered in power\n",
      "  return t + (b - t) / (1 + (c / m)**s)\n"
     ]
    },
    {
     "name": "stdout",
     "output_type": "stream",
     "text": [
      "Saving curve to results/EC50_curves.pdf\n"
     ]
    },
    {
     "data": {
      "image/png": "[encoded data removed]",
      "text/plain": [
       "<Figure size 504x280.8 with 3 Axes>"
      ]
     },
     "metadata": {
      "needs_background": "light"
     },
     "output_type": "display_data"
    }
   ],
   "source": [
    "fits = neutcurve.CurveFits(\n",
    "                           rbd_data.query('antibody != \"COV2-2082\"'),\n",
    "                           fracinf_col='mean_bin',\n",
    "                           serum_col='antibody_date',\n",
    "                           virus_col='genotype',\n",
    "                           fixbottom=False,\n",
    "                           fixtop=False,\n",
    "                           infectivity_or_neutralized='neutralized',\n",
    "                           )\n",
    "\n",
    "fig, ax = fits.plotSera(\n",
    "              xlabel='antibody concentration (ng/ml)',\n",
    "              ylabel='binding (arbitrary units)',\n",
    "              heightscale=1.2,\n",
    "              )\n",
    "\n",
    "plotfile = 'results/EC50_curves.pdf'\n",
    "print(f\"Saving curve to {plotfile}\")\n",
    "fig.savefig(plotfile, bbox_inches='tight')"
   ]
  },
  {
   "cell_type": "markdown",
   "metadata": {},
   "source": [
    "Plot fits for logMFI for CR3022.\n",
    "Note that I tried this for COV2-2082, and the curves would not fit, possibly because the shape with MFI would not be fit well by a Hill curve. "
   ]
  },
  {
   "cell_type": "code",
   "execution_count": 8,
   "metadata": {},
   "outputs": [
    {
     "name": "stderr",
     "output_type": "stream",
     "text": [
      "/fh/fast/bloom_j/computational_notebooks/jbloom/2020/SARS-CoV-2-RBD_MAP/env/lib/python3.7/site-packages/neutcurve/hillcurve.py:691: RuntimeWarning: invalid value encountered in power\n",
      "  return t + (b - t) / (1 + (c / m)**s)\n"
     ]
    },
    {
     "name": "stdout",
     "output_type": "stream",
     "text": [
      "Saving curve to results/EC50_curves_MFI.pdf\n"
     ]
    },
    {
     "data": {
      "image/png": "[encoded data removed]",
      "text/plain": [
       "<Figure size 504x280.8 with 3 Axes>"
      ]
     },
     "metadata": {
      "needs_background": "light"
     },
     "output_type": "display_data"
    }
   ],
   "source": [
    "fits_logMFI = neutcurve.CurveFits(\n",
    "                        rbd_data.query(\"antibody=='CR3022'\"),\n",
    "                        fracinf_col='logMFI_antibody_normalized',\n",
    "                        serum_col='antibody_date',\n",
    "                        virus_col='genotype',\n",
    "                        fixbottom=False,\n",
    "                        fixtop=False,\n",
    "                        infectivity_or_neutralized='neutralized',\n",
    "                        )\n",
    "\n",
    "_ = fits_logMFI.plotSera(\n",
    "            xlabel='antibody concentration (ng/ml)',\n",
    "            ylabel='binding (arbitrary units)',\n",
    "            heightscale=1.2,\n",
    "            )\n",
    "\n",
    "plotfile = 'results/EC50_curves_MFI.pdf'\n",
    "print(f\"Saving curve to {plotfile}\")\n",
    "fig.savefig(plotfile, bbox_inches='tight')"
   ]
  },
  {
   "cell_type": "markdown",
   "metadata": {},
   "source": [
    "Now get the fit parameters for each curve.\n",
    "[neutcurve](https://jbloomlab.github.io/neutcurve/) is set up to report IC50s, but it specifically reports those as the value where we have 50% of a signal between 0 and 1.\n",
    "In this case, every curve has different baselines and generally don't go from 0 to 1, so we want the **midpoints** rather than the IC50s.\n",
    "So extract the IC50s, and also determine if the midpoint is an upper / lower bound given the concentration ranges used, or if it is an interpolated value:"
   ]
  },
  {
   "cell_type": "code",
   "execution_count": 9,
   "metadata": {},
   "outputs": [
    {
     "data": {
      "text/html": [
       "<div>\n",
       "<style scoped>\n",
       "    .dataframe tbody tr th:only-of-type {\n",
       "        vertical-align: middle;\n",
       "    }\n",
       "\n",
       "    .dataframe tbody tr th {\n",
       "        vertical-align: top;\n",
       "    }\n",
       "\n",
       "    .dataframe thead th {\n",
       "        text-align: right;\n",
       "    }\n",
       "</style>\n",
       "<table border=\"1\" class=\"dataframe\">\n",
       "  <thead>\n",
       "    <tr style=\"text-align: right;\">\n",
       "      <th></th>\n",
       "      <th>antibody</th>\n",
       "      <th>date</th>\n",
       "      <th>virus</th>\n",
       "      <th>midpoint</th>\n",
       "      <th>midpoint_is_bound</th>\n",
       "    </tr>\n",
       "  </thead>\n",
       "  <tbody>\n",
       "    <tr>\n",
       "      <th>0</th>\n",
       "      <td>CR3022</td>\n",
       "      <td>2020-07-17</td>\n",
       "      <td>wildtype</td>\n",
       "      <td>14.205197</td>\n",
       "      <td>False</td>\n",
       "    </tr>\n",
       "    <tr>\n",
       "      <th>1</th>\n",
       "      <td>CR3022</td>\n",
       "      <td>2020-07-17</td>\n",
       "      <td>K378N</td>\n",
       "      <td>10000.000000</td>\n",
       "      <td>True</td>\n",
       "    </tr>\n",
       "    <tr>\n",
       "      <th>2</th>\n",
       "      <td>CR3022</td>\n",
       "      <td>2020-07-17</td>\n",
       "      <td>F392A</td>\n",
       "      <td>29.320781</td>\n",
       "      <td>False</td>\n",
       "    </tr>\n",
       "    <tr>\n",
       "      <th>3</th>\n",
       "      <td>CR3022</td>\n",
       "      <td>2020-07-29</td>\n",
       "      <td>wildtype</td>\n",
       "      <td>8.253859</td>\n",
       "      <td>False</td>\n",
       "    </tr>\n",
       "    <tr>\n",
       "      <th>4</th>\n",
       "      <td>CR3022</td>\n",
       "      <td>2020-07-29</td>\n",
       "      <td>K417E</td>\n",
       "      <td>6.797398</td>\n",
       "      <td>False</td>\n",
       "    </tr>\n",
       "    <tr>\n",
       "      <th>5</th>\n",
       "      <td>CR3022</td>\n",
       "      <td>2020-07-29</td>\n",
       "      <td>V382Y</td>\n",
       "      <td>17.477845</td>\n",
       "      <td>False</td>\n",
       "    </tr>\n",
       "  </tbody>\n",
       "</table>\n",
       "</div>"
      ],
      "text/plain": [
       "  antibody       date     virus      midpoint  midpoint_is_bound\n",
       "0   CR3022 2020-07-17  wildtype     14.205197              False\n",
       "1   CR3022 2020-07-17     K378N  10000.000000               True\n",
       "2   CR3022 2020-07-17     F392A     29.320781              False\n",
       "3   CR3022 2020-07-29  wildtype      8.253859              False\n",
       "4   CR3022 2020-07-29     K417E      6.797398              False\n",
       "5   CR3022 2020-07-29     V382Y     17.477845              False"
      ]
     },
     "execution_count": 9,
     "metadata": {},
     "output_type": "execute_result"
    }
   ],
   "source": [
    "fitparams = (\n",
    "    fits.fitParams()\n",
    "    .rename(columns={'serum': 'antibody_date'})\n",
    "    # add back antibody name and max concentration for each\n",
    "    .merge(rbd_data.groupby(['antibody_date', 'antibody', 'date'])\n",
    "                   .aggregate(max_concentration=pd.NamedAgg('concentration', 'max'),\n",
    "                              min_concentration=pd.NamedAgg('concentration', 'min'))\n",
    "                   .reset_index(),\n",
    "           on='antibody_date',\n",
    "           how='left',\n",
    "           validate='many_to_one',\n",
    "           )\n",
    "    # is the midpoint an upper or lower bound\n",
    "    .assign(midpoint_is_bound=lambda x: (x['min_concentration'] > x['midpoint']) |\n",
    "                                        (x['max_concentration'] < x['midpoint']),\n",
    "            midpoint=lambda x: numpy.clip(x['midpoint'], x['min_concentration'], x['max_concentration'])\n",
    "            )\n",
    "    # get columns of interest\n",
    "    [['antibody', 'date', 'virus', 'midpoint', 'midpoint_is_bound']]\n",
    "    )\n",
    "\n",
    "fitparams"
   ]
  },
  {
   "cell_type": "code",
   "execution_count": 10,
   "metadata": {},
   "outputs": [
    {
     "data": {
      "text/html": [
       "<div>\n",
       "<style scoped>\n",
       "    .dataframe tbody tr th:only-of-type {\n",
       "        vertical-align: middle;\n",
       "    }\n",
       "\n",
       "    .dataframe tbody tr th {\n",
       "        vertical-align: top;\n",
       "    }\n",
       "\n",
       "    .dataframe thead th {\n",
       "        text-align: right;\n",
       "    }\n",
       "</style>\n",
       "<table border=\"1\" class=\"dataframe\">\n",
       "  <thead>\n",
       "    <tr style=\"text-align: right;\">\n",
       "      <th></th>\n",
       "      <th>antibody</th>\n",
       "      <th>date</th>\n",
       "      <th>virus</th>\n",
       "      <th>midpoint</th>\n",
       "      <th>midpoint_is_bound</th>\n",
       "    </tr>\n",
       "  </thead>\n",
       "  <tbody>\n",
       "    <tr>\n",
       "      <th>0</th>\n",
       "      <td>CR3022</td>\n",
       "      <td>2020-07-17</td>\n",
       "      <td>wildtype</td>\n",
       "      <td>25.702789</td>\n",
       "      <td>False</td>\n",
       "    </tr>\n",
       "    <tr>\n",
       "      <th>1</th>\n",
       "      <td>CR3022</td>\n",
       "      <td>2020-07-17</td>\n",
       "      <td>K378N</td>\n",
       "      <td>10000.000000</td>\n",
       "      <td>True</td>\n",
       "    </tr>\n",
       "    <tr>\n",
       "      <th>2</th>\n",
       "      <td>CR3022</td>\n",
       "      <td>2020-07-17</td>\n",
       "      <td>F392A</td>\n",
       "      <td>31.698999</td>\n",
       "      <td>False</td>\n",
       "    </tr>\n",
       "    <tr>\n",
       "      <th>3</th>\n",
       "      <td>CR3022</td>\n",
       "      <td>2020-07-29</td>\n",
       "      <td>wildtype</td>\n",
       "      <td>13.943110</td>\n",
       "      <td>False</td>\n",
       "    </tr>\n",
       "    <tr>\n",
       "      <th>4</th>\n",
       "      <td>CR3022</td>\n",
       "      <td>2020-07-29</td>\n",
       "      <td>K417E</td>\n",
       "      <td>11.025398</td>\n",
       "      <td>False</td>\n",
       "    </tr>\n",
       "    <tr>\n",
       "      <th>5</th>\n",
       "      <td>CR3022</td>\n",
       "      <td>2020-07-29</td>\n",
       "      <td>V382Y</td>\n",
       "      <td>16.556823</td>\n",
       "      <td>False</td>\n",
       "    </tr>\n",
       "  </tbody>\n",
       "</table>\n",
       "</div>"
      ],
      "text/plain": [
       "  antibody       date     virus      midpoint  midpoint_is_bound\n",
       "0   CR3022 2020-07-17  wildtype     25.702789              False\n",
       "1   CR3022 2020-07-17     K378N  10000.000000               True\n",
       "2   CR3022 2020-07-17     F392A     31.698999              False\n",
       "3   CR3022 2020-07-29  wildtype     13.943110              False\n",
       "4   CR3022 2020-07-29     K417E     11.025398              False\n",
       "5   CR3022 2020-07-29     V382Y     16.556823              False"
      ]
     },
     "execution_count": 10,
     "metadata": {},
     "output_type": "execute_result"
    }
   ],
   "source": [
    "fitparams_MFI = (\n",
    "    fits_logMFI.fitParams()\n",
    "    .rename(columns={'serum': 'antibody_date'})\n",
    "    # add back antibody name and max concentration for each\n",
    "    .merge(rbd_data.groupby(['antibody_date', 'antibody', 'date'])\n",
    "                   .aggregate(max_concentration=pd.NamedAgg('concentration', 'max'),\n",
    "                              min_concentration=pd.NamedAgg('concentration', 'min'))\n",
    "                   .reset_index(),\n",
    "           on='antibody_date',\n",
    "           how='left',\n",
    "           validate='many_to_one',\n",
    "           )\n",
    "    # is the midpoint an upper or lower bound\n",
    "    .assign(midpoint_is_bound=lambda x: (x['min_concentration'] > x['midpoint']) |\n",
    "                                        (x['max_concentration'] < x['midpoint']),\n",
    "            midpoint=lambda x: numpy.clip(x['midpoint'], x['min_concentration'], x['max_concentration'])\n",
    "            )\n",
    "    # get columns of interest\n",
    "    [['antibody', 'date', 'virus', 'midpoint', 'midpoint_is_bound']]\n",
    "    )\n",
    "\n",
    "fitparams_MFI"
   ]
  },
  {
   "cell_type": "markdown",
   "metadata": {},
   "source": [
    "Now compute the fold change in midpoint relative to the wildtype run on the same day:"
   ]
  },
  {
   "cell_type": "code",
   "execution_count": 11,
   "metadata": {},
   "outputs": [
    {
     "data": {
      "text/html": [
       "<div>\n",
       "<style scoped>\n",
       "    .dataframe tbody tr th:only-of-type {\n",
       "        vertical-align: middle;\n",
       "    }\n",
       "\n",
       "    .dataframe tbody tr th {\n",
       "        vertical-align: top;\n",
       "    }\n",
       "\n",
       "    .dataframe thead th {\n",
       "        text-align: right;\n",
       "    }\n",
       "</style>\n",
       "<table border=\"1\" class=\"dataframe\">\n",
       "  <thead>\n",
       "    <tr style=\"text-align: right;\">\n",
       "      <th></th>\n",
       "      <th>antibody</th>\n",
       "      <th>date</th>\n",
       "      <th>mutant</th>\n",
       "      <th>midpoint</th>\n",
       "      <th>midpoint_is_bound</th>\n",
       "      <th>wildtype_midpoint</th>\n",
       "      <th>fold_change</th>\n",
       "      <th>log2_fold_change</th>\n",
       "    </tr>\n",
       "  </thead>\n",
       "  <tbody>\n",
       "    <tr>\n",
       "      <th>0</th>\n",
       "      <td>CR3022</td>\n",
       "      <td>2020-07-17</td>\n",
       "      <td>K378N</td>\n",
       "      <td>10000.000000</td>\n",
       "      <td>True</td>\n",
       "      <td>14.205197</td>\n",
       "      <td>703.967727</td>\n",
       "      <td>9.459365</td>\n",
       "    </tr>\n",
       "    <tr>\n",
       "      <th>1</th>\n",
       "      <td>CR3022</td>\n",
       "      <td>2020-07-17</td>\n",
       "      <td>F392A</td>\n",
       "      <td>29.320781</td>\n",
       "      <td>False</td>\n",
       "      <td>14.205197</td>\n",
       "      <td>2.064088</td>\n",
       "      <td>1.045505</td>\n",
       "    </tr>\n",
       "    <tr>\n",
       "      <th>2</th>\n",
       "      <td>CR3022</td>\n",
       "      <td>2020-07-29</td>\n",
       "      <td>K417E</td>\n",
       "      <td>6.797398</td>\n",
       "      <td>False</td>\n",
       "      <td>8.253859</td>\n",
       "      <td>0.823542</td>\n",
       "      <td>-0.280086</td>\n",
       "    </tr>\n",
       "    <tr>\n",
       "      <th>3</th>\n",
       "      <td>CR3022</td>\n",
       "      <td>2020-07-29</td>\n",
       "      <td>V382Y</td>\n",
       "      <td>17.477845</td>\n",
       "      <td>False</td>\n",
       "      <td>8.253859</td>\n",
       "      <td>2.117536</td>\n",
       "      <td>1.082387</td>\n",
       "    </tr>\n",
       "  </tbody>\n",
       "</table>\n",
       "</div>"
      ],
      "text/plain": [
       "  antibody       date mutant      midpoint  midpoint_is_bound  \\\n",
       "0   CR3022 2020-07-17  K378N  10000.000000               True   \n",
       "1   CR3022 2020-07-17  F392A     29.320781              False   \n",
       "2   CR3022 2020-07-29  K417E      6.797398              False   \n",
       "3   CR3022 2020-07-29  V382Y     17.477845              False   \n",
       "\n",
       "   wildtype_midpoint  fold_change  log2_fold_change  \n",
       "0          14.205197   703.967727          9.459365  \n",
       "1          14.205197     2.064088          1.045505  \n",
       "2           8.253859     0.823542         -0.280086  \n",
       "3           8.253859     2.117536          1.082387  "
      ]
     },
     "execution_count": 11,
     "metadata": {},
     "output_type": "execute_result"
    }
   ],
   "source": [
    "foldchange = (\n",
    "    fitparams\n",
    "    .query('virus != \"wildtype\"')\n",
    "    .rename(columns={'virus': 'mutant'})\n",
    "    .merge(fitparams.query('virus == \"wildtype\"')\n",
    "                    [['antibody', 'date', 'midpoint']]\n",
    "                    .rename(columns={'midpoint': 'wildtype_midpoint'}),\n",
    "           on=['antibody', 'date'],\n",
    "           how='left',\n",
    "           validate='many_to_one',\n",
    "           )\n",
    "    .assign(fold_change=lambda x: x['midpoint'] / x['wildtype_midpoint'],\n",
    "            log2_fold_change=lambda x: numpy.log(x['fold_change']) / numpy.log(2))\n",
    "    )\n",
    "\n",
    "foldchange"
   ]
  },
  {
   "cell_type": "code",
   "execution_count": 12,
   "metadata": {},
   "outputs": [
    {
     "data": {
      "text/html": [
       "<div>\n",
       "<style scoped>\n",
       "    .dataframe tbody tr th:only-of-type {\n",
       "        vertical-align: middle;\n",
       "    }\n",
       "\n",
       "    .dataframe tbody tr th {\n",
       "        vertical-align: top;\n",
       "    }\n",
       "\n",
       "    .dataframe thead th {\n",
       "        text-align: right;\n",
       "    }\n",
       "</style>\n",
       "<table border=\"1\" class=\"dataframe\">\n",
       "  <thead>\n",
       "    <tr style=\"text-align: right;\">\n",
       "      <th></th>\n",
       "      <th>antibody</th>\n",
       "      <th>date</th>\n",
       "      <th>mutant</th>\n",
       "      <th>midpoint</th>\n",
       "      <th>midpoint_is_bound</th>\n",
       "      <th>wildtype_midpoint</th>\n",
       "      <th>fold_change</th>\n",
       "      <th>log2_fold_change</th>\n",
       "    </tr>\n",
       "  </thead>\n",
       "  <tbody>\n",
       "    <tr>\n",
       "      <th>0</th>\n",
       "      <td>CR3022</td>\n",
       "      <td>2020-07-17</td>\n",
       "      <td>K378N</td>\n",
       "      <td>10000.000000</td>\n",
       "      <td>True</td>\n",
       "      <td>25.702789</td>\n",
       "      <td>389.062841</td>\n",
       "      <td>8.603859</td>\n",
       "    </tr>\n",
       "    <tr>\n",
       "      <th>1</th>\n",
       "      <td>CR3022</td>\n",
       "      <td>2020-07-17</td>\n",
       "      <td>F392A</td>\n",
       "      <td>31.698999</td>\n",
       "      <td>False</td>\n",
       "      <td>25.702789</td>\n",
       "      <td>1.233290</td>\n",
       "      <td>0.302512</td>\n",
       "    </tr>\n",
       "    <tr>\n",
       "      <th>2</th>\n",
       "      <td>CR3022</td>\n",
       "      <td>2020-07-29</td>\n",
       "      <td>K417E</td>\n",
       "      <td>11.025398</td>\n",
       "      <td>False</td>\n",
       "      <td>13.943110</td>\n",
       "      <td>0.790742</td>\n",
       "      <td>-0.338722</td>\n",
       "    </tr>\n",
       "    <tr>\n",
       "      <th>3</th>\n",
       "      <td>CR3022</td>\n",
       "      <td>2020-07-29</td>\n",
       "      <td>V382Y</td>\n",
       "      <td>16.556823</td>\n",
       "      <td>False</td>\n",
       "      <td>13.943110</td>\n",
       "      <td>1.187456</td>\n",
       "      <td>0.247873</td>\n",
       "    </tr>\n",
       "  </tbody>\n",
       "</table>\n",
       "</div>"
      ],
      "text/plain": [
       "  antibody       date mutant      midpoint  midpoint_is_bound  \\\n",
       "0   CR3022 2020-07-17  K378N  10000.000000               True   \n",
       "1   CR3022 2020-07-17  F392A     31.698999              False   \n",
       "2   CR3022 2020-07-29  K417E     11.025398              False   \n",
       "3   CR3022 2020-07-29  V382Y     16.556823              False   \n",
       "\n",
       "   wildtype_midpoint  fold_change  log2_fold_change  \n",
       "0          25.702789   389.062841          8.603859  \n",
       "1          25.702789     1.233290          0.302512  \n",
       "2          13.943110     0.790742         -0.338722  \n",
       "3          13.943110     1.187456          0.247873  "
      ]
     },
     "execution_count": 12,
     "metadata": {},
     "output_type": "execute_result"
    }
   ],
   "source": [
    "foldchange_MFI = (\n",
    "    fitparams_MFI\n",
    "    .query('virus != \"wildtype\"')\n",
    "    .rename(columns={'virus': 'mutant'})\n",
    "    .merge(fitparams_MFI.query('virus == \"wildtype\"')\n",
    "                    [['antibody', 'date', 'midpoint']]\n",
    "                    .rename(columns={'midpoint': 'wildtype_midpoint'}),\n",
    "           on=['antibody', 'date'],\n",
    "           how='left',\n",
    "           validate='many_to_one',\n",
    "           )\n",
    "    .assign(fold_change=lambda x: x['midpoint'] / x['wildtype_midpoint'],\n",
    "            log2_fold_change=lambda x: numpy.log(x['fold_change']) / numpy.log(2))\n",
    "    )\n",
    "\n",
    "foldchange_MFI"
   ]
  },
  {
   "cell_type": "markdown",
   "metadata": {},
   "source": [
    "Now plot these midpoints fold changes, calling them \"EC50s\" since they are if we account for fact signal doesn't go from 0 to 1.\n",
    "In order not to have the y-axis blown out, we put an upper bound on the largest value and plot points at this bound in a different color.\n",
    "\n",
    "This could be a main plot, so save it to a file:"
   ]
  },
  {
   "cell_type": "code",
   "execution_count": 13,
   "metadata": {},
   "outputs": [
    {
     "name": "stdout",
     "output_type": "stream",
     "text": [
      "Saving to results/fold_change_EC50.pdf\n"
     ]
    },
    {
     "data": {
      "image/png": "[encoded data removed]",
      "text/plain": [
       "<Figure size 180x175 with 1 Axes>"
      ]
     },
     "metadata": {},
     "output_type": "display_data"
    }
   ],
   "source": [
    "fold_change_upper_bound = 100  # plot fold-change in EC50 >= this as this\n",
    "\n",
    "# upper bound for plotting\n",
    "upper_bound = fold_change_upper_bound\n",
    "if foldchange['midpoint_is_bound'].any():\n",
    "    upper_bound = min(upper_bound, foldchange\n",
    "                                   .query('midpoint_is_bound')\n",
    "                                   ['fold_change']\n",
    "                                   .min())\n",
    "\n",
    "p = (ggplot(foldchange\n",
    "            .assign(fold_change=lambda x: numpy.clip(x['fold_change'],\n",
    "                                                     None, fold_change_upper_bound),\n",
    "                    midpoint_is_bound=lambda x: x['midpoint_is_bound'] |\n",
    "                                                (x['fold_change'] == fold_change_upper_bound),\n",
    "                    )\n",
    "            ) +\n",
    "     aes('mutant', 'fold_change', color='midpoint_is_bound') +\n",
    "     geom_point(size=2.5) +\n",
    "     scale_y_log10(name='fold change EC50') +\n",
    "     theme_classic() +\n",
    "     theme(axis_text_x=element_text(angle=90),\n",
    "           figure_size=(0.45 * foldchange['mutant'].nunique(), 1.75),\n",
    "           ) +\n",
    "     geom_hline(yintercept=1, linetype='dashed', size=1,\n",
    "                alpha=0.6, color=CBPALETTE[0]) +\n",
    "     geom_hline(yintercept=upper_bound, linetype='dotted', size=1,\n",
    "                alpha=0.6, color=CBPALETTE[2]) +\n",
    "     scale_color_manual(values=CBPALETTE[1:],\n",
    "                        name='upper limit')\n",
    "     )\n",
    "\n",
    "_ = p.draw()\n",
    "\n",
    "plotfile = 'results/fold_change_EC50.pdf'\n",
    "print(f\"Saving to {plotfile}\")\n",
    "p.save(plotfile, verbose=False)"
   ]
  },
  {
   "cell_type": "markdown",
   "metadata": {},
   "source": [
    "Write to a file the foldchange and upper bound data frames:"
   ]
  },
  {
   "cell_type": "code",
   "execution_count": 14,
   "metadata": {},
   "outputs": [],
   "source": [
    "(foldchange\n",
    " .assign(fold_change=lambda x: numpy.clip(x['fold_change'],\n",
    "                                          None, fold_change_upper_bound)\n",
    "         )\n",
    " .to_csv('results/foldchange.csv', index=False)\n",
    " )\n",
    "\n",
    "(pd.DataFrame({'antibody': ['CR3022'], 'fold_change': [fold_change_upper_bound]})\n",
    " .to_csv('results/upper_bound.csv')\n",
    " )"
   ]
  },
  {
   "cell_type": "markdown",
   "metadata": {},
   "source": [
    "Make the same plots using MFI instead:"
   ]
  },
  {
   "cell_type": "code",
   "execution_count": 15,
   "metadata": {},
   "outputs": [
    {
     "name": "stdout",
     "output_type": "stream",
     "text": [
      "Saving to results/fold_change_EC50_MFI.pdf\n"
     ]
    },
    {
     "data": {
      "image/png": "[encoded data removed]",
      "text/plain": [
       "<Figure size 180x175 with 1 Axes>"
      ]
     },
     "metadata": {},
     "output_type": "display_data"
    }
   ],
   "source": [
    "fold_change_upper_bound = 100  # plot fold-change in EC50 >= this as this\n",
    "\n",
    "# upper bound for plotting\n",
    "upper_bound = fold_change_upper_bound\n",
    "if foldchange_MFI['midpoint_is_bound'].any():\n",
    "    upper_bound = min(upper_bound, foldchange\n",
    "                                   .query('midpoint_is_bound')\n",
    "                                   ['fold_change']\n",
    "                                   .min())\n",
    "\n",
    "p = (ggplot(foldchange_MFI\n",
    "            .assign(fold_change=lambda x: numpy.clip(x['fold_change'],\n",
    "                                                     None, fold_change_upper_bound),\n",
    "                    midpoint_is_bound=lambda x: x['midpoint_is_bound'] |\n",
    "                                                (x['fold_change'] == fold_change_upper_bound),\n",
    "                    )\n",
    "            ) +\n",
    "     aes('mutant', 'fold_change', color='midpoint_is_bound') +\n",
    "     geom_point(size=2.5) +\n",
    "     scale_y_log10(name='fold change EC50') +\n",
    "     theme_classic() +\n",
    "     theme(axis_text_x=element_text(angle=90),\n",
    "           figure_size=(0.45 * foldchange_MFI['mutant'].nunique(), 1.75),\n",
    "           ) +\n",
    "     geom_hline(yintercept=1, linetype='dashed', size=1,\n",
    "                alpha=0.6, color=CBPALETTE[0]) +\n",
    "     geom_hline(yintercept=upper_bound, linetype='dotted', size=1,\n",
    "                alpha=0.6, color=CBPALETTE[2]) +\n",
    "     scale_color_manual(values=CBPALETTE[1:],\n",
    "                        name='upper limit')\n",
    "     )\n",
    "\n",
    "_ = p.draw()\n",
    "\n",
    "plotfile = 'results/fold_change_EC50_MFI.pdf'\n",
    "print(f\"Saving to {plotfile}\")\n",
    "p.save(plotfile, verbose=False)"
   ]
  },
  {
   "cell_type": "markdown",
   "metadata": {},
   "source": [
    "It looks like the fold change in EC50 is greater for the mutants with subtle effect when the data are displayed as `mean_bin` rather than `logMFI`. \n",
    "This makes sense, given that the data look a somewhat cleaner as `mean_bin`.\n",
    "I think we will probably want to carry the `mean_bin` analysis forward for the paper. \n",
    "\n",
    "Finally, we want to plot the flow cytometry reading for RBD **expression**, which is measured by a different fluorescent tag, just to prove all RBDs expressed.\n",
    "There are lots of expression measurements (one at each antibody concentration), so just plot distribution of all of them.\n",
    "This could be another supplementary plot, so save it:"
   ]
  },
  {
   "cell_type": "code",
   "execution_count": 16,
   "metadata": {},
   "outputs": [
    {
     "name": "stdout",
     "output_type": "stream",
     "text": [
      "Saving to results/RBD_expression.pdf\n"
     ]
    },
    {
     "data": {
      "image/png": "[encoded data removed]",
      "text/plain": [
       "<Figure size 600x300 with 2 Axes>"
      ]
     },
     "metadata": {},
     "output_type": "display_data"
    }
   ],
   "source": [
    "cat_type = CategoricalDtype(categories=[\"untransfected\", \"wildtype\", \"K378N\", \"V382Y\", \"F392A\", \"K417E\",],\n",
    "                            ordered=True)\n",
    "\n",
    "all_data['genotype']=all_data['genotype'].astype(cat_type)\n",
    "\n",
    "p = (ggplot(all_data.query('antibody != \"COV2-2082\"')) +\n",
    "     aes('genotype', 'PE_geomean', fill='genotype') +\n",
    "     geom_boxplot(outlier_alpha=0.5) +\n",
    "     facet_wrap('~ antibody_date',\n",
    "                scales='free',\n",
    "                ) +\n",
    "     ylab('RBD expression\\n(arbitrary units)') +\n",
    "     scale_y_log10()+\n",
    "     expand_limits(y=5e2) +\n",
    "     theme_classic() +\n",
    "     theme(axis_text_x=element_text(angle=90),\n",
    "           panel_spacing=0.5,\n",
    "           figure_size=(6, 3),\n",
    "           ) +\n",
    "     scale_fill_manual(values=['black']+list(CBPALETTE), guide=False)\n",
    "     )\n",
    "\n",
    "_ = p.draw()\n",
    "\n",
    "plotfile = 'results/RBD_expression.pdf'\n",
    "print(f\"Saving to {plotfile}\")\n",
    "p.save(plotfile, verbose=False)"
   ]
  },
  {
   "cell_type": "code",
   "execution_count": null,
   "metadata": {},
   "outputs": [],
   "source": []
  }
 ],
 "metadata": {
  "kernelspec": {
   "display_name": "Python 3",
   "language": "python",
   "name": "python3"
  },
  "language_info": {
   "codemirror_mode": {
    "name": "ipython",
    "version": 3
   },
   "file_extension": ".py",
   "mimetype": "text/x-python",
   "name": "python",
   "nbconvert_exporter": "python",
   "pygments_lexer": "ipython3",
   "version": "3.7.6"
  }
 },
 "nbformat": 4,
 "nbformat_minor": 4
}
