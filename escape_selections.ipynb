{
 "cells": [
  {
   "cell_type": "markdown",
   "metadata": {},
   "source": [
    "# Analyze escape-mutant selections\n",
    "Analyze some data from escape-mutant selections by Pavel in Crowe lab.\n",
    "\n",
    "Import Python modules:"
   ]
  },
  {
   "cell_type": "code",
   "execution_count": 1,
   "metadata": {},
   "outputs": [],
   "source": [
    "import os\n",
    "\n",
    "import Bio.SeqIO\n",
    "\n",
    "import dms_variants.constants\n",
    "from dms_variants.constants import CBPALETTE\n",
    "import dms_variants.utils\n",
    "\n",
    "from IPython.display import display, HTML\n",
    "\n",
    "import mizani\n",
    "\n",
    "import numpy\n",
    "\n",
    "import pandas as pd\n",
    "\n",
    "from plotnine import *\n",
    "\n",
    "import yaml"
   ]
  },
  {
   "cell_type": "markdown",
   "metadata": {},
   "source": [
    "Read in configuration and then escape-mutant selection results:"
   ]
  },
  {
   "cell_type": "code",
   "execution_count": 2,
   "metadata": {},
   "outputs": [
    {
     "name": "stdout",
     "output_type": "stream",
     "text": [
      "Reading escape-mutant selection results from data/escape_selection_results.yaml\n"
     ]
    }
   ],
   "source": [
    "with open('config.yaml') as f:\n",
    "    config = yaml.safe_load(f)\n",
    "    \n",
    "print(f\"Reading escape-mutant selection results from {config['escape_selection_results']}\")\n",
    "with open(config['escape_selection_results']) as f:\n",
    "    selection_results = yaml.safe_load(f)"
   ]
  },
  {
   "cell_type": "markdown",
   "metadata": {},
   "source": [
    "Make output directory:"
   ]
  },
  {
   "cell_type": "code",
   "execution_count": 3,
   "metadata": {},
   "outputs": [],
   "source": [
    "os.makedirs(config['escape_selections_dir'], exist_ok=True)"
   ]
  },
  {
   "cell_type": "markdown",
   "metadata": {},
   "source": [
    "Read escape-mutation mapping and deep mutational scanning results, and then merge them:"
   ]
  },
  {
   "cell_type": "code",
   "execution_count": 4,
   "metadata": {},
   "outputs": [
    {
     "data": {
      "text/html": [
       "<table border=\"1\" class=\"dataframe\">\n",
       "  <thead>\n",
       "    <tr style=\"text-align: right;\">\n",
       "      <th>selection</th>\n",
       "      <th>antibody</th>\n",
       "      <th>site</th>\n",
       "      <th>wildtype</th>\n",
       "      <th>mutation</th>\n",
       "      <th>mutation_escape</th>\n",
       "      <th>site_escape</th>\n",
       "      <th>ACE2 binding</th>\n",
       "      <th>RBD expression</th>\n",
       "    </tr>\n",
       "  </thead>\n",
       "  <tbody>\n",
       "    <tr>\n",
       "      <td>COV2-2050_400</td>\n",
       "      <td>COV2-2050</td>\n",
       "      <td>331</td>\n",
       "      <td>N</td>\n",
       "      <td>A</td>\n",
       "      <td>0.000366</td>\n",
       "      <td>0.0335</td>\n",
       "      <td>-0.03</td>\n",
       "      <td>-0.11</td>\n",
       "    </tr>\n",
       "    <tr>\n",
       "      <td>COV2-2050_400</td>\n",
       "      <td>COV2-2050</td>\n",
       "      <td>331</td>\n",
       "      <td>N</td>\n",
       "      <td>C</td>\n",
       "      <td>0.001012</td>\n",
       "      <td>0.0335</td>\n",
       "      <td>-0.09</td>\n",
       "      <td>-1.26</td>\n",
       "    </tr>\n",
       "    <tr>\n",
       "      <td>COV2-2050_400</td>\n",
       "      <td>COV2-2050</td>\n",
       "      <td>331</td>\n",
       "      <td>N</td>\n",
       "      <td>D</td>\n",
       "      <td>0.000373</td>\n",
       "      <td>0.0335</td>\n",
       "      <td>0.03</td>\n",
       "      <td>-0.44</td>\n",
       "    </tr>\n",
       "    <tr>\n",
       "      <td>COV2-2050_400</td>\n",
       "      <td>COV2-2050</td>\n",
       "      <td>331</td>\n",
       "      <td>N</td>\n",
       "      <td>E</td>\n",
       "      <td>0.005233</td>\n",
       "      <td>0.0335</td>\n",
       "      <td>0.00</td>\n",
       "      <td>-0.31</td>\n",
       "    </tr>\n",
       "    <tr>\n",
       "      <td>COV2-2050_400</td>\n",
       "      <td>COV2-2050</td>\n",
       "      <td>331</td>\n",
       "      <td>N</td>\n",
       "      <td>F</td>\n",
       "      <td>0.001505</td>\n",
       "      <td>0.0335</td>\n",
       "      <td>-0.10</td>\n",
       "      <td>-0.70</td>\n",
       "    </tr>\n",
       "  </tbody>\n",
       "</table>"
      ],
      "text/plain": [
       "<IPython.core.display.HTML object>"
      ]
     },
     "metadata": {},
     "output_type": "display_data"
    }
   ],
   "source": [
    "# read escape fractions\n",
    "escape_fracs = (\n",
    "    pd.read_csv(config['escape_fracs'])\n",
    "    .query('library == \"average\"')\n",
    "    .rename(columns={config['mut_metric']: 'mutation_escape',\n",
    "                     config['site_metric']: 'site_escape'})\n",
    "    .assign(site=lambda x: x['label_site'],\n",
    "            antibody=lambda x: x['selection'].str.split('_').str[0])\n",
    "    [['selection', 'antibody', 'site', 'wildtype', 'mutation', 'mutation_escape', 'site_escape']]\n",
    "    )\n",
    "\n",
    "# check that antibody names extracted from selections are unique, which would not be\n",
    "# the case if just removing text after underscore doesn't get antibody name\n",
    "assert escape_fracs['antibody'].nunique() == escape_fracs['selection'].nunique()\n",
    "\n",
    "# read DMS data\n",
    "bind_expr = (\n",
    "    pd.read_csv(config['mut_bind_expr'])\n",
    "    .rename(columns={'site_SARS2': 'site',\n",
    "                     'bind_avg': 'ACE2 binding',\n",
    "                     'expr_avg': 'RBD expression',\n",
    "                     })\n",
    "    .assign(mutation=lambda x: x['mutant'])\n",
    "    [['site', 'mutation', 'ACE2 binding', 'RBD expression']]\n",
    "    )\n",
    "\n",
    "# merge escape and DMS data\n",
    "escape_dms = (\n",
    "    escape_fracs\n",
    "    .merge(bind_expr,\n",
    "           on=['site', 'mutation'],\n",
    "           how='left',\n",
    "           validate='many_to_one',\n",
    "           )\n",
    "    )\n",
    "\n",
    "# first few lines of data frame\n",
    "display(HTML(escape_dms.head().to_html(index=False)))"
   ]
  },
  {
   "cell_type": "markdown",
   "metadata": {},
   "source": [
    "Get data frame with just escape-selection counts and then add to the main data frame of escape / DMS data:"
   ]
  },
  {
   "cell_type": "code",
   "execution_count": 5,
   "metadata": {},
   "outputs": [
    {
     "data": {
      "text/html": [
       "<table border=\"1\" class=\"dataframe\">\n",
       "  <thead>\n",
       "    <tr style=\"text-align: right;\">\n",
       "      <th>antibody</th>\n",
       "      <th>site</th>\n",
       "      <th>wildtype</th>\n",
       "      <th>mutation</th>\n",
       "      <th>n_selected</th>\n",
       "    </tr>\n",
       "  </thead>\n",
       "  <tbody>\n",
       "    <tr>\n",
       "      <td>COV2-2094</td>\n",
       "      <td>378</td>\n",
       "      <td>K</td>\n",
       "      <td>E</td>\n",
       "      <td>1</td>\n",
       "    </tr>\n",
       "    <tr>\n",
       "      <td>COV2-2094</td>\n",
       "      <td>378</td>\n",
       "      <td>K</td>\n",
       "      <td>N</td>\n",
       "      <td>1</td>\n",
       "    </tr>\n",
       "    <tr>\n",
       "      <td>COV2-2479</td>\n",
       "      <td>484</td>\n",
       "      <td>E</td>\n",
       "      <td>K</td>\n",
       "      <td>1</td>\n",
       "    </tr>\n",
       "    <tr>\n",
       "      <td>COV2-2050</td>\n",
       "      <td>484</td>\n",
       "      <td>E</td>\n",
       "      <td>K</td>\n",
       "      <td>2</td>\n",
       "    </tr>\n",
       "    <tr>\n",
       "      <td>COV2-2499</td>\n",
       "      <td>446</td>\n",
       "      <td>G</td>\n",
       "      <td>D</td>\n",
       "      <td>2</td>\n",
       "    </tr>\n",
       "    <tr>\n",
       "      <td>COV2-2499</td>\n",
       "      <td>498</td>\n",
       "      <td>Q</td>\n",
       "      <td>R</td>\n",
       "      <td>2</td>\n",
       "    </tr>\n",
       "  </tbody>\n",
       "</table>"
      ],
      "text/plain": [
       "<IPython.core.display.HTML object>"
      ]
     },
     "metadata": {},
     "output_type": "display_data"
    }
   ],
   "source": [
    "records = []\n",
    "for antibody, d in selection_results.items():\n",
    "    if 'mutations' in d:\n",
    "        for mutation_str, n in d['mutations'].items():\n",
    "            wt = mutation_str[0]\n",
    "            site = int(mutation_str[1: -1])\n",
    "            mutation = mutation_str[-1]\n",
    "            records.append((antibody, site, wt, mutation, n))\n",
    "            assert 1 == len(escape_dms.query('antibody == @antibody')\n",
    "                                      .query('wildtype == @wt')\n",
    "                                      .query('site == @site')\n",
    "                                      .query('mutation == @mutation')\n",
    "                                      ), f\"{mutation_str} not in `escape_dms` once for {antibody}\"\n",
    "            \n",
    "selection_df = pd.DataFrame.from_records(\n",
    "                records,\n",
    "                columns=['antibody', 'site', 'wildtype', 'mutation', 'n_selected'])\n",
    "\n",
    "antibody_order = selection_df['antibody'].unique().tolist()\n",
    "\n",
    "display(HTML(selection_df.to_html(index=False)))"
   ]
  },
  {
   "cell_type": "markdown",
   "metadata": {},
   "source": [
    "Add escape-selection counts to main data frame and then get just antibodies with at least one escape-mutation selected:"
   ]
  },
  {
   "cell_type": "code",
   "execution_count": 6,
   "metadata": {},
   "outputs": [
    {
     "data": {
      "text/html": [
       "<table border=\"1\" class=\"dataframe\">\n",
       "  <thead>\n",
       "    <tr style=\"text-align: right;\">\n",
       "      <th>selection</th>\n",
       "      <th>antibody</th>\n",
       "      <th>site</th>\n",
       "      <th>wildtype</th>\n",
       "      <th>mutation</th>\n",
       "      <th>mutation_escape</th>\n",
       "      <th>site_escape</th>\n",
       "      <th>ACE2 binding</th>\n",
       "      <th>RBD expression</th>\n",
       "      <th>n_selected</th>\n",
       "      <th>n_selected_total</th>\n",
       "      <th>any_selected</th>\n",
       "    </tr>\n",
       "  </thead>\n",
       "  <tbody>\n",
       "    <tr>\n",
       "      <td>COV2-2050_400</td>\n",
       "      <td>COV2-2050</td>\n",
       "      <td>331</td>\n",
       "      <td>N</td>\n",
       "      <td>A</td>\n",
       "      <td>0.000366</td>\n",
       "      <td>0.0335</td>\n",
       "      <td>-0.03</td>\n",
       "      <td>-0.11</td>\n",
       "      <td>0</td>\n",
       "      <td>2</td>\n",
       "      <td>False</td>\n",
       "    </tr>\n",
       "    <tr>\n",
       "      <td>COV2-2050_400</td>\n",
       "      <td>COV2-2050</td>\n",
       "      <td>331</td>\n",
       "      <td>N</td>\n",
       "      <td>C</td>\n",
       "      <td>0.001012</td>\n",
       "      <td>0.0335</td>\n",
       "      <td>-0.09</td>\n",
       "      <td>-1.26</td>\n",
       "      <td>0</td>\n",
       "      <td>2</td>\n",
       "      <td>False</td>\n",
       "    </tr>\n",
       "    <tr>\n",
       "      <td>COV2-2050_400</td>\n",
       "      <td>COV2-2050</td>\n",
       "      <td>331</td>\n",
       "      <td>N</td>\n",
       "      <td>D</td>\n",
       "      <td>0.000373</td>\n",
       "      <td>0.0335</td>\n",
       "      <td>0.03</td>\n",
       "      <td>-0.44</td>\n",
       "      <td>0</td>\n",
       "      <td>2</td>\n",
       "      <td>False</td>\n",
       "    </tr>\n",
       "    <tr>\n",
       "      <td>COV2-2050_400</td>\n",
       "      <td>COV2-2050</td>\n",
       "      <td>331</td>\n",
       "      <td>N</td>\n",
       "      <td>E</td>\n",
       "      <td>0.005233</td>\n",
       "      <td>0.0335</td>\n",
       "      <td>0.00</td>\n",
       "      <td>-0.31</td>\n",
       "      <td>0</td>\n",
       "      <td>2</td>\n",
       "      <td>False</td>\n",
       "    </tr>\n",
       "    <tr>\n",
       "      <td>COV2-2050_400</td>\n",
       "      <td>COV2-2050</td>\n",
       "      <td>331</td>\n",
       "      <td>N</td>\n",
       "      <td>F</td>\n",
       "      <td>0.001505</td>\n",
       "      <td>0.0335</td>\n",
       "      <td>-0.10</td>\n",
       "      <td>-0.70</td>\n",
       "      <td>0</td>\n",
       "      <td>2</td>\n",
       "      <td>False</td>\n",
       "    </tr>\n",
       "  </tbody>\n",
       "</table>"
      ],
      "text/plain": [
       "<IPython.core.display.HTML object>"
      ]
     },
     "metadata": {},
     "output_type": "display_data"
    }
   ],
   "source": [
    "escape_dms_selection = (\n",
    "    escape_dms\n",
    "    .merge(selection_df,\n",
    "           how='left',\n",
    "           on=['antibody', 'site', 'wildtype', 'mutation'],\n",
    "           validate='one_to_one',\n",
    "           )\n",
    "    .assign(n_selected=lambda x: x['n_selected'].fillna(0).astype(int),\n",
    "            n_selected_total=lambda x: x.groupby('antibody')['n_selected'].transform('sum'),\n",
    "            any_selected=lambda x: x['n_selected'] > 0,\n",
    "            )\n",
    "    .query('n_selected_total > 0')\n",
    "    .reset_index(drop=True)\n",
    "    )\n",
    "\n",
    "display(HTML(escape_dms_selection.head().to_html(index=False)))"
   ]
  },
  {
   "cell_type": "markdown",
   "metadata": {},
   "source": [
    "Now add in the Spike VSV codon sequence and determine what amino-acid mutations are single-nucleotide accessible:"
   ]
  },
  {
   "cell_type": "code",
   "execution_count": 7,
   "metadata": {},
   "outputs": [
    {
     "name": "stdout",
     "output_type": "stream",
     "text": [
      "Reading Spike codon sequence from data/VSV-SARS-CoV-2-Spike.gb\n"
     ]
    }
   ],
   "source": [
    "print(f\"Reading Spike codon sequence from {config['vsv_spike']}\")\n",
    "spike = str(Bio.SeqIO.read(config['vsv_spike'], 'genbank').seq)\n",
    "\n",
    "escape_dms_selection = (\n",
    "    escape_dms_selection\n",
    "    .assign(VSV_codon=lambda x: x['site'].map(lambda r: spike[3 * (r - 1): 3 * r]),\n",
    "            VSV_aa=lambda x: x['VSV_codon'].map(dms_variants.constants.CODON_TO_AA),\n",
    "            single_nt_accessible=lambda x: x.apply(lambda row: dms_variants.utils.single_nt_accessible(row['VSV_codon'],\n",
    "                                                                                                       row['mutation']),\n",
    "                                                   axis=1)\n",
    "            )\n",
    "    )\n",
    "\n",
    "if any(escape_dms_selection['wildtype'] != escape_dms_selection['VSV_aa']):\n",
    "    raise ValueError('VSV differs from DMS RBD amino-acid sequence')"
   ]
  },
  {
   "cell_type": "markdown",
   "metadata": {},
   "source": [
    "Make plots showing effects of all mutations stratified by how many times observed in selections, and whether single-nucleotide accessible or not from VSV spike.\n",
    "For mutations observed in selections point size is proportional to times observed:"
   ]
  },
  {
   "cell_type": "code",
   "execution_count": 8,
   "metadata": {},
   "outputs": [
    {
     "name": "stdout",
     "output_type": "stream",
     "text": [
      "Saving plot to results/escape_selections/mutations_scatter.pdf\n"
     ]
    },
    {
     "name": "stderr",
     "output_type": "stream",
     "text": [
      "/fh/fast/bloom_j/computational_notebooks/jbloom/2020/SARS-CoV-2-RBD_MAP/env/lib/python3.7/site-packages/plotnine/guides/guide_legend.py:126: PlotnineWarning: Duplicated override_aes is ignored.\n",
      "  warn(\"Duplicated override_aes is ignored.\", PlotnineWarning)\n"
     ]
    },
    {
     "data": {
      "image/png": "[encoded data removed]",
      "text/plain": [
       "<Figure size 640x160 with 4 Axes>"
      ]
     },
     "metadata": {},
     "output_type": "display_data"
    }
   ],
   "source": [
    "max_selected = escape_dms_selection['n_selected'].max()\n",
    "n_antibodies = escape_dms_selection['antibody'].nunique()\n",
    "\n",
    "\n",
    "# assign area for points, proportional to n_selected but always at least 0.5 so even\n",
    "# unselected points are visible, and categorize points by not single-nucleotide accessible,\n",
    "# single-nucleotide accessible and no-escape, or escape\n",
    "cat_labels = {0: 'multi-nucleotide',\n",
    "              1: 'single-nucleotide',\n",
    "              2: 'selected (area proportional to observations)',\n",
    "              }\n",
    "df = escape_dms_selection.assign(\n",
    "        antibody=lambda x: pd.Categorical(x['antibody'], antibody_order, ordered=True),\n",
    "        point_area=lambda x: numpy.clip(x['n_selected'], 0.5, None),\n",
    "        # 0 for not single-nt accessible, 1 for single-nt accessible but not selected, 2 for selected and single-nt accessible\n",
    "        point_category_int=lambda x: x['any_selected'].astype(int) + x['single_nt_accessible'],\n",
    "        point_category=lambda x: pd.Categorical(x['point_category_int'].map(cat_labels), cat_labels.values(), ordered=True)\n",
    "        )\n",
    "assert not len(df.query('any_selected and not single_nt_accessible')), 'categories above do not work'\n",
    "    \n",
    "p = (ggplot(df) +\n",
    "     aes('mutation_escape', 'ACE2 binding',\n",
    "         color='point_category', alpha='point_category',\n",
    "         size='point_area', shape='point_category') +\n",
    "     geom_point() +\n",
    "     facet_wrap('~ antibody', nrow=1, scales='free_x') +\n",
    "     scale_color_manual(values=[CBPALETTE[0], CBPALETTE[3], CBPALETTE[6]]) +\n",
    "     scale_alpha_manual(values=[0.3, 0.4, 0.95]) +\n",
    "     scale_size_area(max_size=2.5) +\n",
    "     scale_shape_manual(values=['x', 'o', 'D']) +\n",
    "     theme_classic() +\n",
    "     scale_x_continuous(name='mutation escape fraction',\n",
    "                        breaks=mizani.breaks.mpl_breaks(nbins=3),\n",
    "                        ) +\n",
    "     guides(alpha=False, size=False,\n",
    "            shape=guide_legend(override_aes={'size': 3},\n",
    "                               title='mutation type'),\n",
    "            color=guide_legend(title='mutation type'),\n",
    "            ) +\n",
    "     theme(figure_size=(1.6 * n_antibodies, 1.6))\n",
    "    )\n",
    "     \n",
    "_ = p.draw()\n",
    "\n",
    "plotfile = os.path.join(config['escape_selections_dir'], 'mutations_scatter.pdf')\n",
    "print(f\"Saving plot to {plotfile}\")\n",
    "p.save(plotfile, verbose=False)"
   ]
  },
  {
   "cell_type": "code",
   "execution_count": null,
   "metadata": {},
   "outputs": [],
   "source": []
  }
 ],
 "metadata": {
  "kernelspec": {
   "display_name": "Python 3",
   "language": "python",
   "name": "python3"
  },
  "language_info": {
   "codemirror_mode": {
    "name": "ipython",
    "version": 3
   },
   "file_extension": ".py",
   "mimetype": "text/x-python",
   "name": "python",
   "nbconvert_exporter": "python",
   "pygments_lexer": "ipython3",
   "version": "3.7.6"
  }
 },
 "nbformat": 4,
 "nbformat_minor": 4
}
